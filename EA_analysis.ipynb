{
 "metadata": {
  "language_info": {
   "codemirror_mode": {
    "name": "ipython",
    "version": 3
   },
   "file_extension": ".py",
   "mimetype": "text/x-python",
   "name": "python",
   "nbconvert_exporter": "python",
   "pygments_lexer": "ipython3",
   "version": "3.8.6-final"
  },
  "orig_nbformat": 2,
  "kernelspec": {
   "name": "python38664bit646a7e4ccbe742b499d842df87d465f9",
   "display_name": "Python 3.8.6 64-bit",
   "language": "python"
  }
 },
 "nbformat": 4,
 "nbformat_minor": 2,
 "cells": [
  {
   "cell_type": "code",
   "execution_count": 34,
   "metadata": {},
   "outputs": [],
   "source": [
    "from IPython.display import Math\n",
    "from IPython.display import Image \n",
    "from EA_tsp import *\n",
    "import EA_ks"
   ]
  },
  {
   "source": [
    "# CS 451: Computational Intelligence \n",
    "## Assignment 1: Evolutionary Algorithms \n",
    "## By: Muhammad Usaid Rehman & Abbas Haider "
   ],
   "cell_type": "markdown",
   "metadata": {}
  },
  {
   "source": [
    "## The Problems\n",
    "\n",
    "### Travelling Salesperson Problem:\n",
    "The TSP is an NP-hard problem that asks the question: Given a list of cities and the distances between the cities, what is the shortest possible route that visits each city exactly once and returns to the original city. A brute force algorithm for this problem runs in $O(n!)$ time. There are several approximation schema that bring this down to a polynomial time; however, they do not give exact solutions. We will implement an evolutionary algorithm to find an approximate TSP tour using minimization techniques.\n",
    "\n",
    "### Knapsack Problem:\n",
    "Knapsack is an NP-complete problem in combinatorial optimization. The problem states: Given a set of items, each with a weight and a value, determine the number of each item to include in a collection so that the total weight is less than or equal to a given limit and the total value is as large as possible. Similar to the TSP, there exist several approximation algorithms that approximate the solution to the problem to various degrees of accuracy. We will be implementing an evolutionary algorithm to find an approximate solution using maximization techniques. "
   ],
   "cell_type": "markdown",
   "metadata": {}
  },
  {
   "source": [
    "## Analysis of Evolutionary Algorithm\n",
    "We will analyse the performance of evolutionary algorithm for both TSP and Knapsack by analyzing each combination of selection and survivor schema.\n",
    "\n",
    "### Traveling Salesperson Problem:\n",
    "\n",
    "#### Chromosome Representation:\n",
    "A chromosome of a population in the TSP evolutionary algorithm is represented as a list of vertices, where a vertex represents each city. For example, in the 'qa194.tsp' dataset - a chromosome would look like this:\n",
    "\n"
   ],
   "cell_type": "markdown",
   "metadata": {}
  },
  {
   "cell_type": "code",
   "execution_count": 35,
   "metadata": {},
   "outputs": [
    {
     "output_type": "stream",
     "name": "stdout",
     "text": [
      "[1, 11, 6, 29, 22, 7, 23, 25, 8, 12, 21, 5, 10, 15, 9, 4, 24, 2, 17, 20, 18, 3, 28, 26, 16, 19, 14, 13, 27]\n"
     ]
    }
   ],
   "source": [
    "tsp_instance = tsplib95.load('wi29.tsp')\n",
    "ex_population = init_tsp_pop(tsp_instance, 1)\n",
    "print(ex_population[0])"
   ]
  },
  {
   "source": [
    "#### Fitness Function:\n",
    "Let us see the function that we use to check the fitness of a chromosome:\n",
    "```\n",
    "def fitness_tsp(chrom, tsp):\n",
    "    fit = 0\n",
    "    for i in range(len(chrom)-1):\n",
    "        cost = tsp.get_weight(chrom[i], chrom[i+1])\n",
    "        fit += cost\n",
    "    return fit\n",
    "```\n",
    "When run, this function will output the cost of a TSP tour."
   ],
   "cell_type": "markdown",
   "metadata": {}
  },
  {
   "cell_type": "code",
   "execution_count": 36,
   "metadata": {},
   "outputs": [
    {
     "output_type": "stream",
     "name": "stdout",
     "text": [
      "103613\n"
     ]
    }
   ],
   "source": [
    "print(fitness_tsp(ex_population[0], tsp_instance))"
   ]
  },
  {
   "source": [
    "#### Evolutionary Algorithm: \n",
    "Our implementation of the EA takes several parameters:\n",
    "\n",
    "\n",
    "1. `tsp` : An instance of the TSP problem using the TSP problem library `tsplib95`\n",
    "2. `parent_sel` : A string representing the parent selection scheme to be implemented,<br> choices include: \n",
    "    - `\"fps\"` : Fitness proportional scheme.\n",
    "    - `\"rank\"` : Rank based selection scheme.\n",
    "    - `\"rand\"` : Random based selection scheme.\n",
    "    - `\"bintour\"` : Binary tournament selection scheme. \n",
    "    - `\"trunc\"` : Truncation based elitism selection scheme.\n",
    "3. `surv_sel` : A string representing the survivor selection scheme. It uses the same strings as `parent_sel`.\n",
    "4. `num_gens` : The number of generations for which the algorithm will run. \n",
    "5. `num_offspring` : (Optional) The number of offspring that will be created in each generation. Default is 25. \n",
    "6. `p_m` : (Optional) The probability of mutation occuring for each chromosome. Defaults to 0.5.  \n",
    "7. `pop_size` : (Optional) The size of the population for each generation. Default is 50. \n",
    "\n",
    "\n"
   ],
   "cell_type": "markdown",
   "metadata": {}
  },
  {
   "source": [
    "#### Numerical Analysis of the Algorithm:\n",
    "We will compare the results of the algorithm using different combinations of selection and survivor schema. Here is a function we will use to invoke the algorithm for different schema. "
   ],
   "cell_type": "markdown",
   "metadata": {}
  },
  {
   "source": [
    "def run_EAtsp(tsp, parent_sel, surv_sel, num_gens, num_iter=10):\n",
    "    bests = []\n",
    "    avgs = []\n",
    "    final_avg = [0]*num_gens\n",
    "    best_avg = [0]*num_gens\n",
    "    for i in range(num_iter):\n",
    "        avg, best = EA_tsp(tsp, parent_sel, surv_sel, num_gens)\n",
    "        bests.append(best)\n",
    "        avgs.append(avg)\n",
    "    for gen in range(num_gens):\n",
    "        for j in range(num_iter):\n",
    "            final_avg[gen] += avgs[j][gen]\n",
    "            best_avg[gen] += bests[j][gen]\n",
    "        final_avg[gen] = final_avg[gen] / num_iter\n",
    "        best_avg[gen] = best_avg[gen] / num_iter \n",
    "    print(final_avg)\n",
    "    print(best_avg)\n"
   ],
   "cell_type": "code",
   "metadata": {},
   "execution_count": 37,
   "outputs": []
  },
  {
   "cell_type": "code",
   "execution_count": 38,
   "metadata": {},
   "outputs": [
    {
     "output_type": "stream",
     "name": "stdout",
     "text": [
      "[173540.952, 166429.40600000002, 162099.914, 158890.92199999996, 155868.53999999998, 153541.00199999998, 151476.83800000005, 149462.02599999998, 147436.212, 145673.962, 144077.68600000002, 142564.85, 141565.65199999997, 140228.69, 139029.046, 138251.598, 136550.11200000002, 135350.63199999998, 134502.024, 133602.694, 132478.654, 131584.17600000004, 130402.438, 129372.26000000001, 128455.76600000002, 127357.612, 126405.78, 125957.49200000001, 124882.182, 124445.45, 123473.53799999999, 122195.15199999997, 121586.888, 121192.91200000001, 120600.646, 119719.43999999999, 119196.884, 118973.274, 118129.98599999999, 117452.06999999999, 116905.6, 115923.66, 115542.33399999999, 115026.222, 114535.72999999998, 113860.048, 113229.51200000002, 112956.454, 111766.93399999998, 110963.32200000001, 110749.03800000002, 110188.916, 109835.558, 109182.90400000001, 108443.366, 107653.374, 107738.29400000002, 107154.10800000001, 105917.51000000001, 106345.348, 105120.05999999998, 104799.17199999999, 104110.02, 103985.38999999998, 103643.53, 102864.36200000001, 102602.06800000001, 102216.79400000001, 102184.94399999999, 101811.252, 101206.964, 100746.55, 100643.08200000001, 99908.47200000001, 99563.02399999999, 99387.918, 98672.84199999999, 98510.308, 98427.64199999999, 97687.83, 97393.63, 97084.87800000001, 96464.26599999999, 96264.508, 95840.142, 95346.084, 95463.992, 94910.93600000002, 94647.50200000001, 94297.524, 94260.212, 93744.262, 93310.412, 93267.59400000001, 92474.588, 92233.634, 91450.724, 91437.70199999999, 91253.33000000002, 91217.75000000001]\n[82066.3, 81124.8, 81124.8, 81057.8, 80563.7, 79671.9, 78919.3, 78517.5, 77983.9, 77741.2, 76859.5, 76675.1, 75984.5, 75352.7, 75352.7, 73298.2, 73298.2, 71872.7, 71611.2, 71124.8, 71054.5, 70823.7, 70310.6, 70171.2, 70111.2, 69290.9, 67699.4, 67371.3, 67227.9, 66421.1, 65794.2, 65084.3, 64678.3, 64209.7, 64209.7, 63661.6, 63661.6, 62829.1, 62557.6, 62118.7, 61759.7, 61395.3, 61374.1, 61143.6, 61041.1, 60347.4, 59808.5, 59808.5, 59512.7, 59341.3, 59341.3, 59341.3, 59193.1, 58845.9, 58678.3, 58678.3, 58678.3, 58629.2, 58194.8, 57893.1, 57784.2, 57073.2, 57073.2, 55984.1, 55918.8, 55918.8, 55918.8, 55918.8, 55685.8, 55685.8, 54943.5, 54176.6, 54176.6, 54114.6, 53780.1, 53217.0, 53217.0, 53167.7, 52852.8, 51844.3, 51360.3, 51360.3, 51151.3, 51134.4, 50963.0, 50963.0, 50807.1, 50807.1, 50780.8, 50660.9, 50660.9, 50660.9, 50459.5, 50384.5, 50384.5, 50384.5, 49891.8, 49308.0, 49296.5, 49296.5]\n"
     ]
    }
   ],
   "source": [
    "run_EAtsp(tsp_instance, \"bintour\", \"trunc\", 100)"
   ]
  },
  {
   "cell_type": "code",
   "execution_count": null,
   "metadata": {},
   "outputs": [],
   "source": []
  }
 ]
}